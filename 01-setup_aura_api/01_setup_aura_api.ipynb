{
  "cells": [
    {
      "cell_type": "markdown",
      "metadata": {
        "id": "Ysjo5FuxRDQ3"
      },
      "source": [
        "# Setting up API access for Neo4j Aura Enterprise "
      ]
    },
    {
      "cell_type": "markdown",
      "metadata": {},
      "source": [
        "This guide will walk you through the steps for setting up API access for Neo4j Aura Enterprise. \n",
        "\n",
        "Prerequisite: You will need a Neo4j Aura account set up either through one of the cloud marketplaces or directly from Neo4j. \n",
        "\n",
        "You can sign up for a new account at https://console.neo4j.io"
      ]
    },
    {
      "cell_type": "markdown",
      "metadata": {},
      "source": [
        "### Step 1: Go to Account Details\n",
        "\n",
        "Click on your picture in the upper right corner of the screen and then click the \"Account Details\" button from the pop up window that comes up.\n",
        "\n",
        "![01.png](screenshots/01.png)\n",
        "\n",
        "### Step 2: Create a new API key\n",
        "\n",
        "Click the \"Create\" button from the Account Details screen and give the new API key a unique name\n",
        "\n",
        "![02.png](screenshots/02.png)\n",
        "![03.png](screenshots/03.png)\n",
        "\n",
        "### Step 3: **Download** the API credentials file to a location where these scripts will be able to access it later on.\n",
        "\n",
        "![04.png](screenshots/04.png)\n",
        "\n"
      ]
    }
  ],
  "metadata": {
    "colab": {
      "provenance": []
    },
    "kernelspec": {
      "display_name": "Python 3",
      "name": "python3"
    },
    "language_info": {
      "name": "python"
    }
  },
  "nbformat": 4,
  "nbformat_minor": 0
}
