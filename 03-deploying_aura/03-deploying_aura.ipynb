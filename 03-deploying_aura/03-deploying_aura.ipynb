{
  "cells": [
    {
      "cell_type": "markdown",
      "metadata": {
        "id": "JAPoU8Sm5E6e"
      },
      "source": [
        "<table align=\"left\">\n",
        "\n",
        "  <td>\n",
        "    <a href=\"https://colab.research.google.com/github/leerazo/neo4j_aura_api/blob/main/03-deploying_aura/03-deploying_aura.ipynb\" target=\"_blank\">\n",
        "      <img src=\"https://cloud.google.com/ml-engine/images/colab-logo-32px.png\" alt=\"Colab logo\"> Run in Colab\n",
        "    </a>\n",
        "  </td>\n",
        "  <td>\n",
        "    <a href=\"https://github.com/leerazo/neo4j_aura_api/blob/main/03-deploying_aura/03-deploying_aura.ipynb\" target=\"_blank\">\n",
        "      <img src=\"https://cloud.google.com/ml-engine/images/github-logo-32px.png\" alt=\"GitHub logo\">\n",
        "      View on GitHub\n",
        "    </a>\n",
        "  </td>\n",
        "  <td>\n",
        "    <a href=\"https://console.cloud.google.com/vertex-ai/workbench/deploy-notebook?download_url=https://github.com/leerazo/neo4j_aura_api/blob/main/03-deploying_aura/03-deploying_aura.ipynb\">\n",
        "      <img src=\"https://lh3.googleusercontent.com/UiNooY4LUgW_oTvpsNhPpQzsstV5W8F7rYgxgGBD85cWJoLmrOzhVs_ksK_vgx40SHs7jCqkTkCk=e14-rj-sc0xffffff-h130-w32\" alt=\"Vertex AI logo\">Open in Vertex AI Workbench\n",
        "    </a>\n",
        "</td>\n",
        "</table>"
      ]
    },
    {
      "cell_type": "markdown",
      "metadata": {
        "id": "Ysjo5FuxRDQ3"
      },
      "source": [
        "\n",
        "# Deploying Neo4j using the Aura API "
      ]
    },
    {
      "cell_type": "markdown",
      "metadata": {},
      "source": [
        "Let's begin by installing all the needed libraries"
      ]
    },
    {
      "cell_type": "code",
      "execution_count": null,
      "metadata": {},
      "outputs": [],
      "source": [
        "%pip install python-dotenv\n",
        "%pip install jupyterlab\n",
        "\n",
        "#%pip install jupyterlab_widgets\n",
        "%pip install ipywidgets"
      ]
    },
    {
      "cell_type": "code",
      "execution_count": 5,
      "metadata": {},
      "outputs": [],
      "source": [
        "from dotenv import dotenv_values\n",
        "from urllib.parse import urljoin\n",
        "import ipywidgets as widgets\n",
        "from IPython.display import display\n",
        "import subprocess\n",
        "import datetime\n",
        "import json\n",
        "import os"
      ]
    },
    {
      "cell_type": "markdown",
      "metadata": {},
      "source": [
        "## Step 1: Authenticate API and get a bearer token for access\n",
        "\n",
        "Upload the API credential file you created earlier using the widget in the cell below. "
      ]
    },
    {
      "cell_type": "code",
      "execution_count": null,
      "metadata": {},
      "outputs": [],
      "source": [
        "import sys\n",
        "IN_COLAB = 'google.colab' in sys.modules\n",
        "print('Google Colab:', str(IN_COLAB))\n",
        "\n",
        "if IN_COLAB:\n",
        "    from google.colab import files\n",
        "    uploaded = files.upload()\n",
        "    filename = next(iter(uploaded))\n",
        "    content = uploaded[filename]\n",
        "    cred_file = 'aura_api_creds.txt'\n",
        "    os.rename(filename, cred_file)\n",
        "else:\n",
        "    cred_file = ''\n",
        "    print('Currently only supported in Google Colab')"
      ]
    },
    {
      "cell_type": "markdown",
      "metadata": {},
      "source": [
        "Now let's extract the credentials for further use. We'll save it to a file in case we need to access it again later. "
      ]
    },
    {
      "cell_type": "code",
      "execution_count": null,
      "metadata": {},
      "outputs": [],
      "source": [
        "aura_creds = dotenv_values(cred_file)\n",
        "for item in aura_creds:\n",
        "  print(item, '=', aura_creds[item])"
      ]
    },
    {
      "cell_type": "markdown",
      "metadata": {},
      "source": [
        "Let's define a helper function which uses these credentials to generate a bearer token for access."
      ]
    },
    {
      "cell_type": "code",
      "execution_count": null,
      "metadata": {},
      "outputs": [],
      "source": [
        "def refresh_token(api_creds, api_base):\n",
        "    api_endpoint = urljoin(api_base, '/oauth/token')\n",
        "\n",
        "    curl_cmd = \"curl --request POST '{}' --user '{}:{}' --header 'Content-Type: application/x-www-form-urlencoded' --data-urlencode 'grant_type=client_credentials'\".format(api_endpoint, api_creds['CLIENT_ID'], api_creds['CLIENT_SECRET'], api_creds['CLIENT_NAME'])\n",
        "    result = json.loads(subprocess.check_output(curl_cmd, shell=True))\n",
        "    access_token = result['access_token']\n",
        "    expires_in = result['expires_in']\n",
        "\n",
        "    now = datetime.datetime.now()\n",
        "    expiration = (now + datetime.timedelta(0, expires_in)).isoformat()\n",
        "\n",
        "    bearer_token = {\n",
        "        'access_token': access_token,\n",
        "        'expiration': expiration\n",
        "    }\n",
        "\n",
        "    # Save the bearer token to a file\n",
        "    token_file = 'api_bearer_token'\n",
        "    with open(token_file, \"w\") as outfile:\n",
        "        json.dump(bearer_token, outfile, indent=4)\n",
        "\n",
        "    access_token = bearer_token['access_token']\n",
        "    return access_token "
      ]
    },
    {
      "cell_type": "markdown",
      "metadata": {},
      "source": [
        "Now let's try it."
      ]
    },
    {
      "cell_type": "code",
      "execution_count": null,
      "metadata": {},
      "outputs": [],
      "source": [
        "api_base = 'https://api.neo4j.io/'\n",
        "\n",
        "access_token = refresh_token(aura_creds, api_base)\n",
        "print('access_token:', access_token)"
      ]
    },
    {
      "cell_type": "markdown",
      "metadata": {},
      "source": [
        "\n",
        "## Deploying Neo4j\n",
        "\n",
        "First step is to choose a tenant to deploy into, let's define some helper functions."
      ]
    },
    {
      "cell_type": "code",
      "execution_count": null,
      "metadata": {},
      "outputs": [],
      "source": [
        "def list_tenants(access_token, api_base, tenant_id=None):\n",
        "    #api_endpoint = 'https://api.neo4j.io/v1/tenants'\n",
        "\n",
        "    api_endpoint = urljoin(api_base, '/v1/tenants')\n",
        "\n",
        "    aura_tenants = {}\n",
        "\n",
        "    if tenant_id:\n",
        "        api_endpoint += '/' + tenant_id\n",
        "\n",
        "    print()\n",
        "    print('api_endpoint:', api_endpoint)\n",
        "    print()\n",
        "\n",
        "    list_cmd = \"curl -s -X 'GET' '{}' -H 'accept: application/json' -H 'Authorization: Bearer {}'\".format(api_endpoint, access_token)\n",
        "    \n",
        "    list_tenants = dict(json.loads(subprocess.check_output(list_cmd, shell=True)))['data']\n",
        "    for item in list_tenants:\n",
        "        aura_tenants[item['id']] = {}\n",
        "        aura_tenants[item['id']]['id'] = item['id'] \n",
        "        aura_tenants[item['id']]['name'] = item['name'] \n",
        "\n",
        "    return aura_tenants\n",
        "\n",
        "\n",
        "def tenant_info(access_token, api_base, tenant_id):\n",
        "    api_endpoint = urljoin(api_base, '/v1/tenants/' + tenant_id)\n",
        "    tenant_data = {}\n",
        "    info_cmd = \"curl -s -X 'GET' '{}' -H 'accept: application/json' -H 'Authorization: Bearer {}'\".format(api_endpoint, access_token)\n",
        "    tenant_info = json.loads(subprocess.check_output(info_cmd, shell=True))['data']\n",
        "    \n",
        "    for item in tenant_info:\n",
        "        tenant_data[tenant_info['id']] = {}\n",
        "        tenant_data[tenant_info['id']]['tenant_id'] = tenant_info['id']\n",
        "        tenant_data[tenant_info['id']]['tenant_name'] = tenant_info['name'] \n",
        "        tenant_data[tenant_info['id']]['instance_configurations'] = list(tenant_info['instance_configurations'])\n",
        "\n",
        "    return tenant_data\n"
      ]
    },
    {
      "cell_type": "markdown",
      "metadata": {},
      "source": [
        "Now let's take a look at the environment, beginning with a list of tenants we have access to."
      ]
    },
    {
      "cell_type": "code",
      "execution_count": 8,
      "metadata": {},
      "outputs": [
        {
          "ename": "NameError",
          "evalue": "name 'list_tenants' is not defined",
          "output_type": "error",
          "traceback": [
            "\u001b[0;31m---------------------------------------------------------------------------\u001b[0m",
            "\u001b[0;31mNameError\u001b[0m                                 Traceback (most recent call last)",
            "Cell \u001b[0;32mIn[8], line 1\u001b[0m\n\u001b[0;32m----> 1\u001b[0m aura_tenants \u001b[38;5;241m=\u001b[39m \u001b[43mlist_tenants\u001b[49m(access_token, api_base)\n\u001b[1;32m      2\u001b[0m \u001b[38;5;28mprint\u001b[39m()\n\u001b[1;32m      3\u001b[0m \u001b[38;5;28mprint\u001b[39m(\u001b[38;5;124m'\u001b[39m\u001b[38;5;124mAura Tenants:\u001b[39m\u001b[38;5;124m'\u001b[39m)\n",
            "\u001b[0;31mNameError\u001b[0m: name 'list_tenants' is not defined"
          ]
        }
      ],
      "source": [
        "aura_tenants = list_tenants(access_token, api_base)\n",
        "print()\n",
        "print('Aura Tenants:')\n",
        "print('-------------')\n",
        "for tenant in aura_tenants:\n",
        "    print(aura_tenants[tenant])\n",
        "print()\n",
        "\n",
        "selected_tenant = widgets.Dropdown(\n",
        "    options=tenant_ids,\n",
        "    #value='2',\n",
        "    description='Please select a Tenant ID:',\n",
        "    disabled=False,\n",
        ")\n",
        "\n",
        "display(selected_tenant)"
      ]
    },
    {
      "cell_type": "markdown",
      "metadata": {},
      "source": [
        "Once we've chosen a tenant, copy the tenant ID."
      ]
    },
    {
      "cell_type": "code",
      "execution_count": null,
      "metadata": {},
      "outputs": [],
      "source": [
        "tenant_id = selected_tenant.value # Paste in the tenant_id of the tenant you wish to use \n",
        "print('tenant_id:', tenant_id)\n",
        "print()\n",
        "\n",
        "tenant_details = tenant_info(access_token, api_base, tenant_id)\n",
        "\n",
        "print('Tenant Details:')\n",
        "print('---------------')\n",
        "for item in tenant_details[tenant_id]:\n",
        "    print(item, '=', tenant_details[tenant_id][item])\n",
        "\n",
        "cloud_providers = list({i['cloud_provider'] for i in tenant_details[tenant_id]['instance_configurations']})"
      ]
    },
    {
      "cell_type": "code",
      "execution_count": null,
      "metadata": {},
      "outputs": [],
      "source": [
        "selected_csp = widgets.Dropdown(\n",
        "    options=cloud_providers,\n",
        "    #value='2',\n",
        "    description='Please select a cloud provider:',\n",
        "    disabled=False,\n",
        ")\n",
        "\n",
        "display(selected_csp)"
      ]
    },
    {
      "cell_type": "code",
      "execution_count": null,
      "metadata": {},
      "outputs": [],
      "source": [
        "cloud_provider = selected_csp.value\n",
        "print('cloud_provider:', cloud_provider)"
      ]
    },
    {
      "cell_type": "code",
      "execution_count": null,
      "metadata": {},
      "outputs": [],
      "source": [
        "available_regions = {}\n",
        "available_types = {}\n",
        "available_versions = {}\n",
        "available_sizes = {}\n",
        "for config in instance_configurations:\n",
        "   if config['cloud_provider'] == cloud_provider:\n",
        "       #print(config)\n",
        "       region = config['region']\n",
        "       type = config['type']\n",
        "       version = config['version']\n",
        "       size = config['memory']\n",
        "       available_regions[region] = config['region_name']\n",
        "       available_types[type] = config['type']\n",
        "       available_versions[version] = config['version']\n",
        "       available_sizes[size] = config['memory']\n",
        "region_list = list(available_regions.keys())\n",
        "type_list = list(available_types.keys())\n",
        "version_list = list(available_versions.keys())\n",
        "size_list = list(available_sizes.keys())\n",
        "\n",
        "\n",
        "selected_region = widgets.Dropdown(\n",
        "    options=region_list,\n",
        "    #value='2',\n",
        "    description='Please select a region:',\n",
        "    disabled=False,\n",
        ")\n",
        "\n",
        "selected_type = widgets.Dropdown(\n",
        "    options=versions_list,\n",
        "    #value='2',\n",
        "    description='Please select a type:',\n",
        "    disabled=False,\n",
        ")\n",
        "\n",
        "selected_version = widgets.Dropdown(\n",
        "    options=version_list,\n",
        "    #value='2',\n",
        "    description='Please select a version:',\n",
        "    disabled=False,\n",
        ")\n",
        "\n",
        "selected_size = widgets.Dropdown(\n",
        "    options=size_list,\n",
        "    #value='2',\n",
        "    description='Please select a memory size:',\n",
        "    disabled=False,\n",
        ")\n",
        "#display(selected_region)\n",
        "display(selected_type)"
      ]
    },
    {
      "cell_type": "code",
      "execution_count": null,
      "metadata": {},
      "outputs": [],
      "source": [
        "region = str(selected_region.value)\n",
        "type = str(selected_type.value)\n",
        "print('tenant_id:', tenant_id)\n",
        "print('cloud_provider:', cloud_provider)\n",
        "print('region:', region)\n",
        "print('type:', type)\n",
        "\n",
        "available_configs = {}\n",
        "\n",
        "for config in instance_configurations:\n",
        "    if (config['cloud_provider'] == cloud_provider) and (config['region'] == region) and (config['type'] == type):\n",
        "           print(config)"
      ]
    },
    {
      "cell_type": "markdown",
      "metadata": {},
      "source": [
        "Now we're ready to deploy! Let's define a couple more helper functions. "
      ]
    },
    {
      "cell_type": "code",
      "execution_count": null,
      "metadata": {},
      "outputs": [],
      "source": [
        "def deploy_instance(access_token, api_base, instance_name, tenant_id, cloud_provider, region='europe-west1', aura_type='professional-ds'):\n",
        "    api_endpoint = urljoin(api_base, '/v1/instances')\n",
        "\n",
        "    instance_details = {}\n",
        "\n",
        "    print()\n",
        "    print('api_endpoint:', api_endpoint)\n",
        "    print()\n",
        "    request_body = {\n",
        "        \"version\": \"5\",\n",
        "        \"region\": region,\n",
        "        \"memory\": \"16GB\",\n",
        "        \"name\": instance_name,\n",
        "        \"type\": aura_type,\n",
        "        \"tenant_id\": tenant_id,\n",
        "        \"cloud_provider\": cloud_provider\n",
        "    }\n",
        "\n",
        "    print('request body type (before):', type(request_body))\n",
        "    json_request_body = json.dumps(request_body)\n",
        "    print('request body type (after):', type(json_request_body))\n",
        "\n",
        "    curl_cmd = \"curl -s -X 'POST' '{}' -H 'accept: application/json' -H 'Authorization: Bearer {}' -H 'Content-Type: application/json'\".format(api_endpoint, access_token)\n",
        "    curl_cmd += \" -d '{}'\".format(json_request_body)\n",
        "    print('curl_cmd:')\n",
        "    print(curl_cmd)\n",
        "    api_response = json.loads(subprocess.check_output(curl_cmd, shell=True))\n",
        "\n",
        "    print('New instance created:')\n",
        "    print(api_response)\n",
        "    \n",
        "    response_data = api_response['data']\n",
        "    \n",
        "    instance_details['id'] = response_data['id']\n",
        "    instance_details['name'] = response_data['name']\n",
        "    instance_details['connection_url'] = response_data['connection_url']\n",
        "    instance_details['password'] = response_data['password']\n",
        "    instance_details['username'] = response_data['username']\n",
        "    instance_details['cloud_provider'] = response_data['cloud_provider']\n",
        "    instance_details['region'] = response_data['region']\n",
        "    instance_details['tenant_id'] = response_data['tenant_id']\n",
        "    instance_details['type'] = response_data['type']\n",
        "\n",
        "    print()\n",
        "    print('instance_details:')\n",
        "    for item in instance_details:\n",
        "        print(item, '=', instance_details[item])\n",
        "    print()\n",
        "\n",
        "    return instance_details\n",
        "\n",
        "def list_instances(access_token, api_base, tenant_id=None):\n",
        "    api_endpoint = urljoin(api_base, '/v1/instances') \n",
        "    aura_instances = {}\n",
        "    list_cmd = \"curl -s -X 'GET' '{}' -H 'accept: application/json' -H 'Authorization: Bearer {}'\".format(api_endpoint, access_token)\n",
        "\n",
        "    list_instances = json.loads(subprocess.check_output(list_cmd, shell=True))['data']\n",
        "    for instance in list_instances:\n",
        "        aura_instances[instance['id']] = {}\n",
        "        aura_instances[instance['id']]['instance_id'] = instance['id'] \n",
        "        aura_instances[instance['id']]['instance_name'] = instance['name'] \n",
        "        aura_instances[instance['id']]['cloud_provider'] = instance['cloud_provider'] \n",
        "        aura_instances[instance['id']]['tenant_id'] = instance['tenant_id'] \n",
        "\n",
        "    return aura_instances\n",
        "\n",
        "def get_instance_info(access_token, api_base, instance_id):\n",
        "    api_endpoint = urljoin(api_base, '/v1/instances/' + instance_id)\n",
        "    instance_data = {}\n",
        "\n",
        "    info_cmd = \"curl -s -X 'GET' '{}' -H 'accept: application/json' -H 'Authorization: Bearer {}'\".format(api_endpoint, access_token)\n",
        "\n",
        "    api_response = json.loads(subprocess.check_output(info_cmd, shell=True))\n",
        "\n",
        "    if 'data' in api_response:\n",
        "        response_data = api_response['data']\n",
        "        instance_status = response_data['status']\n",
        "\n",
        "    return response_data"
      ]
    },
    {
      "cell_type": "markdown",
      "metadata": {},
      "source": [
        "Now we can deploy our first instance!"
      ]
    },
    {
      "cell_type": "code",
      "execution_count": null,
      "metadata": {},
      "outputs": [],
      "source": [
        "instance_name = \"my_new_aura_instance\"\n",
        "cloud_provider = 'gcp'\n",
        "instance_info = deploy_instance(access_token, api_base, instance_name, tenant_id, cloud_provider)\n",
        "print('instance_info:')\n",
        "print(instance_info)"
      ]
    },
    {
      "cell_type": "markdown",
      "metadata": {},
      "source": [
        "Let's take a closer look at one of the instances."
      ]
    },
    {
      "cell_type": "code",
      "execution_count": null,
      "metadata": {},
      "outputs": [],
      "source": [
        "instance_details = get_instance_info(access_token, api_base, instance_info['id'])\n",
        "print('instance_details:')\n",
        "print()\n",
        "for item in instance_details:\n",
        "    print('\\t' + item, '=', instance_details[item])"
      ]
    }
  ],
  "metadata": {
    "colab": {
      "provenance": []
    },
    "kernelspec": {
      "display_name": "Python 3",
      "name": "python3"
    },
    "language_info": {
      "codemirror_mode": {
        "name": "ipython",
        "version": 3
      },
      "file_extension": ".py",
      "mimetype": "text/x-python",
      "name": "python",
      "nbconvert_exporter": "python",
      "pygments_lexer": "ipython3",
      "version": "3.11.5"
    }
  },
  "nbformat": 4,
  "nbformat_minor": 0
}
