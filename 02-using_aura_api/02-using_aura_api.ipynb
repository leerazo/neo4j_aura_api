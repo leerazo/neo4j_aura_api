{
  "cells": [
    {
      "cell_type": "markdown",
      "metadata": {
        "id": "JAPoU8Sm5E6e"
      },
      "source": [
        "<table align=\"left\">\n",
        "\n",
        "  <td>\n",
        "    <a href=\"https://colab.research.google.com/github/leerazo/neo4j_aura_api/blob/main/02-using_aura_api/02-using_aura_api.ipynb\" target=\"_blank\">\n",
        "      <img src=\"https://cloud.google.com/ml-engine/images/colab-logo-32px.png\" alt=\"Colab logo\"> Run in Colab\n",
        "    </a>\n",
        "  </td>\n",
        "  <td>\n",
        "    <a href=\"https://github.com/leerazo/neo4j_aura_api/blob/main/02-using_aura_api/02-using_aura_api.ipynb\" target=\"_blank\">\n",
        "      <img src=\"https://cloud.google.com/ml-engine/images/github-logo-32px.png\" alt=\"GitHub logo\">\n",
        "      View on GitHub\n",
        "    </a>\n",
        "  </td>\n",
        "  <td>\n",
        "    <a href=\"https://console.cloud.google.com/vertex-ai/workbench/deploy-notebook?download_url=https://github.com/leerazo/neo4j_aura_api/blob/main/02-using_aura_api/02-using_aura_api.ipynb\">\n",
        "      <img src=\"https://lh3.googleusercontent.com/UiNooY4LUgW_oTvpsNhPpQzsstV5W8F7rYgxgGBD85cWJoLmrOzhVs_ksK_vgx40SHs7jCqkTkCk=e14-rj-sc0xffffff-h130-w32\" alt=\"Vertex AI logo\">Open in Vertex AI Workbench\n",
        "    </a>\n",
        "</td>\n",
        "</table>"
      ]
    },
    {
      "cell_type": "markdown",
      "metadata": {
        "id": "Ysjo5FuxRDQ3"
      },
      "source": [
        "# Using the Neo4j Aura API"
      ]
    },
    {
      "cell_type": "markdown",
      "metadata": {},
      "source": [
        "Let's begin by installing all the needed libraries"
      ]
    },
    {
      "cell_type": "code",
      "execution_count": 2,
      "metadata": {},
      "outputs": [
        {
          "name": "stdout",
          "output_type": "stream",
          "text": [
            "Requirement already satisfied: python-dotenv in /opt/homebrew/lib/python3.11/site-packages (1.0.0)\n",
            "Note: you may need to restart the kernel to use updated packages.\n",
            "Collecting google-colab\n",
            "  Using cached google-colab-1.0.0.tar.gz (72 kB)\n",
            "  Preparing metadata (setup.py) ... \u001b[?25ldone\n",
            "\u001b[?25hCollecting google-auth~=1.4.0 (from google-colab)\n",
            "  Using cached google_auth-1.4.2-py2.py3-none-any.whl (64 kB)\n",
            "Collecting ipykernel~=4.6.0 (from google-colab)\n",
            "  Using cached ipykernel-4.6.1-py3-none-any.whl (104 kB)\n",
            "Collecting ipython~=5.5.0 (from google-colab)\n",
            "  Using cached ipython-5.5.0-py3-none-any.whl (758 kB)\n",
            "Collecting notebook~=5.2.0 (from google-colab)\n",
            "  Using cached notebook-5.2.2-py2.py3-none-any.whl (8.0 MB)\n",
            "Collecting six~=1.12.0 (from google-colab)\n",
            "  Using cached six-1.12.0-py2.py3-none-any.whl (10 kB)\n",
            "Collecting pandas~=0.24.0 (from google-colab)\n",
            "  Using cached pandas-0.24.2.tar.gz (11.8 MB)\n",
            "  Preparing metadata (setup.py) ... \u001b[?25lerror\n",
            "  \u001b[1;31merror\u001b[0m: \u001b[1msubprocess-exited-with-error\u001b[0m\n",
            "  \n",
            "  \u001b[31m×\u001b[0m \u001b[32mpython setup.py egg_info\u001b[0m did not run successfully.\n",
            "  \u001b[31m│\u001b[0m exit code: \u001b[1;36m1\u001b[0m\n",
            "  \u001b[31m╰─>\u001b[0m \u001b[31m[19 lines of output]\u001b[0m\n",
            "  \u001b[31m   \u001b[0m /private/var/folders/9c/x0wy8bk13c18rzl1r14bg0vw0000gn/T/pip-install-8rrx3zpr/pandas_c32ecccf7b9c4a4c9c0d4bf734ccf667/setup.py:12: DeprecationWarning: pkg_resources is deprecated as an API. See https://setuptools.pypa.io/en/latest/pkg_resources.html\n",
            "  \u001b[31m   \u001b[0m   import pkg_resources\n",
            "  \u001b[31m   \u001b[0m /private/var/folders/9c/x0wy8bk13c18rzl1r14bg0vw0000gn/T/pip-install-8rrx3zpr/pandas_c32ecccf7b9c4a4c9c0d4bf734ccf667/setup.py:435: DeprecationWarning: distutils Version classes are deprecated. Use packaging.version instead.\n",
            "  \u001b[31m   \u001b[0m   current_system = LooseVersion(platform.mac_ver()[0])\n",
            "  \u001b[31m   \u001b[0m /private/var/folders/9c/x0wy8bk13c18rzl1r14bg0vw0000gn/T/pip-install-8rrx3zpr/pandas_c32ecccf7b9c4a4c9c0d4bf734ccf667/setup.py:436: DeprecationWarning: distutils Version classes are deprecated. Use packaging.version instead.\n",
            "  \u001b[31m   \u001b[0m   python_target = LooseVersion(\n",
            "  \u001b[31m   \u001b[0m /opt/homebrew/lib/python3.11/site-packages/setuptools/__init__.py:84: _DeprecatedInstaller: setuptools.installer and fetch_build_eggs are deprecated.\n",
            "  \u001b[31m   \u001b[0m !!\n",
            "  \u001b[31m   \u001b[0m \n",
            "  \u001b[31m   \u001b[0m         ********************************************************************************\n",
            "  \u001b[31m   \u001b[0m         Requirements should be satisfied by a PEP 517 installer.\n",
            "  \u001b[31m   \u001b[0m         If you are using pip, you can try `pip install --use-pep517`.\n",
            "  \u001b[31m   \u001b[0m         ********************************************************************************\n",
            "  \u001b[31m   \u001b[0m \n",
            "  \u001b[31m   \u001b[0m !!\n",
            "  \u001b[31m   \u001b[0m   dist.fetch_build_eggs(dist.setup_requires)\n",
            "  \u001b[31m   \u001b[0m error in pandas setup command: 'install_requires' must be a string or list of strings containing valid project/version requirement specifiers; Expected end or semicolon (after version specifier)\n",
            "  \u001b[31m   \u001b[0m     pytz >= 2011k\n",
            "  \u001b[31m   \u001b[0m          ~~~~~~~^\n",
            "  \u001b[31m   \u001b[0m \u001b[31m[end of output]\u001b[0m\n",
            "  \n",
            "  \u001b[1;35mnote\u001b[0m: This error originates from a subprocess, and is likely not a problem with pip.\n",
            "\u001b[?25h\u001b[1;31merror\u001b[0m: \u001b[1mmetadata-generation-failed\u001b[0m\n",
            "\n",
            "\u001b[31m×\u001b[0m Encountered error while generating package metadata.\n",
            "\u001b[31m╰─>\u001b[0m See above for output.\n",
            "\n",
            "\u001b[1;35mnote\u001b[0m: This is an issue with the package mentioned above, not pip.\n",
            "\u001b[1;36mhint\u001b[0m: See above for details.\n",
            "Note: you may need to restart the kernel to use updated packages.\n"
          ]
        }
      ],
      "source": [
        "%pip install python-dotenv"
      ]
    },
    {
      "cell_type": "code",
      "execution_count": 3,
      "metadata": {},
      "outputs": [],
      "source": [
        "from dotenv import dotenv_values\n",
        "from urllib.parse import urljoin\n",
        "import subprocess\n",
        "import datetime\n",
        "import json"
      ]
    },
    {
      "cell_type": "markdown",
      "metadata": {},
      "source": [
        "## Step 1: Authenticate API and get a bearer token for access\n",
        "\n",
        "Upload the API credential file you created earlier. If you are using Colab you can click the button below to locate and upload the file. If you are using another platform you can do this manually. "
      ]
    },
    {
      "cell_type": "code",
      "execution_count": 1,
      "metadata": {},
      "outputs": [
        {
          "ename": "ModuleNotFoundError",
          "evalue": "No module named 'google.colab'",
          "output_type": "error",
          "traceback": [
            "\u001b[0;31m---------------------------------------------------------------------------\u001b[0m",
            "\u001b[0;31mModuleNotFoundError\u001b[0m                       Traceback (most recent call last)",
            "Cell \u001b[0;32mIn[1], line 1\u001b[0m\n\u001b[0;32m----> 1\u001b[0m \u001b[38;5;28;01mfrom\u001b[39;00m \u001b[38;5;21;01mgoogle\u001b[39;00m\u001b[38;5;21;01m.\u001b[39;00m\u001b[38;5;21;01mcolab\u001b[39;00m \u001b[38;5;28;01mimport\u001b[39;00m files\n\u001b[1;32m      2\u001b[0m uploaded \u001b[38;5;241m=\u001b[39m files\u001b[38;5;241m.\u001b[39mupload()\n",
            "\u001b[0;31mModuleNotFoundError\u001b[0m: No module named 'google.colab'"
          ]
        }
      ],
      "source": [
        "from google.colab import files\n",
        "uploaded = files.upload()"
      ]
    },
    {
      "cell_type": "markdown",
      "metadata": {},
      "source": [
        "Now we'll extract the credentials from the file into a dictionary for further use. "
      ]
    },
    {
      "cell_type": "code",
      "execution_count": null,
      "metadata": {},
      "outputs": [],
      "source": [
        "filename = list(uploaded.keys())[0]\n",
        "print(filename)\n",
        "\n",
        "aura_creds = dotenv_values(filename)\n",
        "for item in aura_creds:\n",
        "  print(item, '=', aura_creds[item])"
      ]
    },
    {
      "cell_type": "markdown",
      "metadata": {},
      "source": [
        "Let's define a helper function which uses these credentials to generate a bearer token for access."
      ]
    },
    {
      "cell_type": "code",
      "execution_count": null,
      "metadata": {},
      "outputs": [],
      "source": [
        "def refresh_token(api_creds, api_base):\n",
        "    api_endpoint = urljoin(api_base, '/oauth/token')\n",
        "\n",
        "    curl_cmd = \"curl --request POST '{}' --user '{}:{}' --header 'Content-Type: application/x-www-form-urlencoded' --data-urlencode 'grant_type=client_credentials'\".format(api_endpoint, api_creds['CLIENT_ID'], api_creds['CLIENT_SECRET'], api_creds['CLIENT_NAME'])\n",
        "    result = json.loads(subprocess.check_output(curl_cmd, shell=True))\n",
        "    access_token = result['access_token']\n",
        "    expires_in = result['expires_in']\n",
        "\n",
        "    now = datetime.datetime.now()\n",
        "    expiration = (now + datetime.timedelta(0, expires_in)).isoformat()\n",
        "\n",
        "    bearer_token = {\n",
        "        'access_token': access_token,\n",
        "        'expiration': expiration\n",
        "    }\n",
        "\n",
        "    # Save the bearer token to a file\n",
        "    token_file = 'api_bearer_token'\n",
        "    with open(token_file, \"w\") as outfile:\n",
        "        json.dump(bearer_token, outfile, indent=4)\n",
        "\n",
        "    access_token = bearer_token['access_token']\n",
        "    return access_token "
      ]
    },
    {
      "cell_type": "markdown",
      "metadata": {},
      "source": [
        "Now let's try it."
      ]
    },
    {
      "cell_type": "code",
      "execution_count": null,
      "metadata": {},
      "outputs": [],
      "source": [
        "api_base = 'https://api.neo4j.io/'\n",
        "\n",
        "access_token = refresh_token(aura_creds, api_base)\n",
        "print('access_token:', access_token)"
      ]
    },
    {
      "cell_type": "markdown",
      "metadata": {},
      "source": [
        "## Step 2: Explore the Aura tenants\n",
        "\n",
        "Now that we've authenticated, let's take a look around and see what we have access to.\n",
        "\n",
        "Let's define a few helper functions."
      ]
    },
    {
      "cell_type": "code",
      "execution_count": null,
      "metadata": {},
      "outputs": [],
      "source": [
        "def list_tenants(access_token, api_base, tenant_id=None):\n",
        "    #api_endpoint = 'https://api.neo4j.io/v1/tenants'\n",
        "\n",
        "    api_endpoint = urljoin(api_base, '/v1/tenants')\n",
        "\n",
        "    aura_tenants = {}\n",
        "\n",
        "    if tenant_id:\n",
        "        api_endpoint += '/' + tenant_id\n",
        "\n",
        "    print()\n",
        "    print('api_endpoint:', api_endpoint)\n",
        "    print()\n",
        "\n",
        "    list_cmd = \"curl -s -X 'GET' '{}' -H 'accept: application/json' -H 'Authorization: Bearer {}'\".format(api_endpoint, access_token)\n",
        "    \n",
        "    list_tenants = dict(json.loads(subprocess.check_output(list_cmd, shell=True)))['data']\n",
        "    for item in list_tenants:\n",
        "        aura_tenants[item['id']] = {}\n",
        "        aura_tenants[item['id']]['id'] = item['id'] \n",
        "        aura_tenants[item['id']]['name'] = item['name'] \n",
        "\n",
        "    return aura_tenants\n",
        "\n",
        "\n",
        "def tenant_info(access_token, api_base, tenant_id):\n",
        "    api_endpoint = urljoin(api_base, '/v1/tenants/' + tenant_id)\n",
        "    tenant_data = {}\n",
        "    info_cmd = \"curl -s -X 'GET' '{}' -H 'accept: application/json' -H 'Authorization: Bearer {}'\".format(api_endpoint, access_token)\n",
        "    tenant_info = json.loads(subprocess.check_output(info_cmd, shell=True))['data']\n",
        "    \n",
        "    for item in tenant_info:\n",
        "        #print(item, '=', tenant_info[item])\n",
        "        tenant_data[tenant_info['id']] = {}\n",
        "        tenant_data[tenant_info['id']]['tenant_id'] = tenant_info['id']\n",
        "        tenant_data[tenant_info['id']]['tenant_name'] = tenant_info['name'] \n",
        "        tenant_data[tenant_info['id']]['instance_configurations'] = list(tenant_info['instance_configurations'])\n",
        "\n",
        "    return tenant_data\n"
      ]
    },
    {
      "cell_type": "markdown",
      "metadata": {},
      "source": [
        "Now let's take a look at the environment, beginning with a list of tenants we have access to."
      ]
    },
    {
      "cell_type": "code",
      "execution_count": null,
      "metadata": {},
      "outputs": [],
      "source": [
        "aura_tenants = list_tenants(access_token, api_base)\n",
        "print()\n",
        "print('Aura Tenants:')\n",
        "print('-------------')\n",
        "for tenant in aura_tenants:\n",
        "    print(aura_tenants[tenant])\n",
        "print()"
      ]
    },
    {
      "cell_type": "markdown",
      "metadata": {},
      "source": [
        "We can also get a take a more detailed look into one of the tenants."
      ]
    },
    {
      "cell_type": "code",
      "execution_count": null,
      "metadata": {},
      "outputs": [],
      "source": [
        "sample_tenant_id = next(iter(aura_tenants))\n",
        "print('sample_tenant_id:', sample_tenant_id)\n",
        "\n",
        "tenant_details = tenant_info(access_token, api_base, sample_tenant_id)\n",
        "\n",
        "print('Tenant Details:')\n",
        "print('---------------')\n",
        "for item in tenant_details[sample_tenant_id]:\n",
        "    print(item, '=', tenant_details[sample_tenant_id][item])"
      ]
    },
    {
      "cell_type": "markdown",
      "metadata": {},
      "source": []
    }
  ],
  "metadata": {
    "colab": {
      "provenance": []
    },
    "kernelspec": {
      "display_name": "Python 3",
      "name": "python3"
    },
    "language_info": {
      "codemirror_mode": {
        "name": "ipython",
        "version": 3
      },
      "file_extension": ".py",
      "mimetype": "text/x-python",
      "name": "python",
      "nbconvert_exporter": "python",
      "pygments_lexer": "ipython3",
      "version": "3.11.5"
    }
  },
  "nbformat": 4,
  "nbformat_minor": 0
}
